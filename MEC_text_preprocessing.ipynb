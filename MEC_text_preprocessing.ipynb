{
 "cells": [
  {
   "cell_type": "markdown",
   "id": "edef971d",
   "metadata": {},
   "source": [
    "### Import Libraries"
   ]
  },
  {
   "cell_type": "code",
   "execution_count": 3,
   "id": "d5af0d24",
   "metadata": {},
   "outputs": [],
   "source": [
    "import pandas as pd\n",
    "import numpy as np\n",
    "import matplotlib.pyplot as plt\n",
    "import re\n",
    "import seaborn as sns"
   ]
  },
  {
   "cell_type": "code",
   "execution_count": 3,
   "id": "882cf6ff",
   "metadata": {},
   "outputs": [],
   "source": [
    "pd.options.display.max_columns= None\n",
    "pd.options.display.max_colwidth= None\n",
    "pd.options.display.max_rows = None"
   ]
  },
  {
   "cell_type": "markdown",
   "id": "b0dd156e",
   "metadata": {},
   "source": [
    "## Preprocessing"
   ]
  },
  {
   "cell_type": "code",
   "execution_count": 240,
   "id": "d8c3c027",
   "metadata": {},
   "outputs": [],
   "source": [
    "def _multiple_replace(mapping, text):\n",
    "    pattern = \"|\".join(map(re.escape, mapping.keys()))\n",
    "    return re.sub(pattern, lambda m: mapping[m.group()], str(text))\n",
    "\n",
    "def convert_fa_numbers(input_str):\n",
    "    mapping = {\n",
    "        '۰': '0',\n",
    "        '۱': '1',\n",
    "        '۲': '2',\n",
    "        '۳': '3',\n",
    "        '۴': '4',\n",
    "        '۵': '5',\n",
    "        '۶': '6',\n",
    "        '۷': '7',\n",
    "        '۸': '8',\n",
    "        '۹': '9',\n",
    "        '.': '.',\n",
    "    }\n",
    "    return _multiple_replace(mapping, input_str)\n",
    "\n",
    "def convert_en_numbers(input_str):\n",
    "    mapping = {\n",
    "         '0': '۰',\n",
    "         '1' : '۱',\n",
    "         '2' :'۲',\n",
    "        '3'  :'۳',\n",
    "        '4'  :'۴',\n",
    "        '5' :'۵',\n",
    "        '6' :'۶',\n",
    "        '7' :'۷',\n",
    "        '8' :'۸',\n",
    "        '9' :'۹',\n",
    "        '.' :'.'\n",
    "    }\n",
    "    return _multiple_replace(mapping, input_str)\n",
    "\n",
    "def convert_ar_characters(input_str):\n",
    "    \"\"\"\n",
    "    Converts Arabic chars to related Persian unicode char\n",
    "    :param input_str: String contains Arabic chars\n",
    "    :return: New str with converted arabic chars\n",
    "    \"\"\"\n",
    "    mapping = {\n",
    "        'ك': 'ک',\n",
    "        'ى': 'ی',\n",
    "        'ي': 'ی',\n",
    "        'ئ':'ی',\n",
    "        'إ':'ا',\n",
    "        'أ':'ا',\n",
    "        'ة':'ه',\n",
    "        'ؤ':'و'\n",
    "    }\n",
    "    return _multiple_replace(mapping, input_str)\n",
    "\n"
   ]
  }
 ],
 "metadata": {
  "kernelspec": {
   "display_name": ".venv",
   "language": "python",
   "name": "python3"
  },
  "language_info": {
   "codemirror_mode": {
    "name": "ipython",
    "version": 3
   },
   "file_extension": ".py",
   "mimetype": "text/x-python",
   "name": "python",
   "nbconvert_exporter": "python",
   "pygments_lexer": "ipython3",
   "version": "3.12.4"
  }
 },
 "nbformat": 4,
 "nbformat_minor": 5
}
