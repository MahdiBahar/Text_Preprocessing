{
 "cells": [
  {
   "cell_type": "markdown",
   "id": "edef971d",
   "metadata": {},
   "source": [
    "### Import Libraries"
   ]
  },
  {
   "cell_type": "code",
   "execution_count": 1,
   "id": "d5af0d24",
   "metadata": {},
   "outputs": [],
   "source": [
    "import pandas as pd\n",
    "import numpy as np\n",
    "import matplotlib.pyplot as plt\n",
    "import re\n",
    "import seaborn as sns"
   ]
  },
  {
   "cell_type": "code",
   "execution_count": 2,
   "id": "882cf6ff",
   "metadata": {},
   "outputs": [],
   "source": [
    "pd.options.display.max_columns= None\n",
    "pd.options.display.max_colwidth= None\n",
    "pd.options.display.max_rows = None"
   ]
  },
  {
   "cell_type": "markdown",
   "id": "0ff50a5f",
   "metadata": {},
   "source": [
    "## Read dataset"
   ]
  },
  {
   "cell_type": "code",
   "execution_count": 3,
   "id": "e12ecf78",
   "metadata": {},
   "outputs": [],
   "source": [
    "df = pd.read_excel('/home/mahdi/NLP/Text_Preprocessing/dataset/Comment_Full_Data_Sentiment_Labeled.xlsx')"
   ]
  },
  {
   "cell_type": "code",
   "execution_count": 4,
   "id": "6c3b950f",
   "metadata": {},
   "outputs": [
    {
     "name": "stdout",
     "output_type": "stream",
     "text": [
      "<class 'pandas.core.frame.DataFrame'>\n",
      "RangeIndex: 1131 entries, 0 to 1130\n",
      "Data columns (total 14 columns):\n",
      " #   Column                  Non-Null Count  Dtype  \n",
      "---  ------                  --------------  -----  \n",
      " 0   comment_id              1131 non-null   int64  \n",
      " 1   app_id                  1131 non-null   int64  \n",
      " 2   user_name               1131 non-null   object \n",
      " 3   comment_text            1131 non-null   object \n",
      " 4   Annotator1              1130 non-null   float64\n",
      " 5   Annotator2              1129 non-null   float64\n",
      " 6   Annotator3              1131 non-null   int64  \n",
      " 7   comment_rating          1131 non-null   int64  \n",
      " 8   comment_date            1131 non-null   int64  \n",
      " 9   sentiment_result        1131 non-null   object \n",
      " 10  second_model_processed  1131 non-null   bool   \n",
      " 11  comment_idd             1131 non-null   int64  \n",
      " 12  sentiment_score         1131 non-null   int64  \n",
      " 13  comment_date_jalali     1131 non-null   int64  \n",
      "dtypes: bool(1), float64(2), int64(8), object(3)\n",
      "memory usage: 116.1+ KB\n"
     ]
    }
   ],
   "source": [
    "df.info()"
   ]
  },
  {
   "cell_type": "code",
   "execution_count": 5,
   "id": "bf2077a4",
   "metadata": {},
   "outputs": [
    {
     "data": {
      "text/html": [
       "<div>\n",
       "<style scoped>\n",
       "    .dataframe tbody tr th:only-of-type {\n",
       "        vertical-align: middle;\n",
       "    }\n",
       "\n",
       "    .dataframe tbody tr th {\n",
       "        vertical-align: top;\n",
       "    }\n",
       "\n",
       "    .dataframe thead th {\n",
       "        text-align: right;\n",
       "    }\n",
       "</style>\n",
       "<table border=\"1\" class=\"dataframe\">\n",
       "  <thead>\n",
       "    <tr style=\"text-align: right;\">\n",
       "      <th></th>\n",
       "      <th>comment_id</th>\n",
       "      <th>app_id</th>\n",
       "      <th>user_name</th>\n",
       "      <th>comment_text</th>\n",
       "      <th>Annotator1</th>\n",
       "      <th>Annotator2</th>\n",
       "      <th>Annotator3</th>\n",
       "      <th>comment_rating</th>\n",
       "      <th>comment_date</th>\n",
       "      <th>sentiment_result</th>\n",
       "      <th>second_model_processed</th>\n",
       "      <th>comment_idd</th>\n",
       "      <th>sentiment_score</th>\n",
       "      <th>comment_date_jalali</th>\n",
       "    </tr>\n",
       "  </thead>\n",
       "  <tbody>\n",
       "    <tr>\n",
       "      <th>0</th>\n",
       "      <td>111177</td>\n",
       "      <td>9</td>\n",
       "      <td>هادی</td>\n",
       "      <td>سلام،خوبه ولی برنامه همراه شهر باز نمیشه.</td>\n",
       "      <td>3.0</td>\n",
       "      <td>3.0</td>\n",
       "      <td>3</td>\n",
       "      <td>5</td>\n",
       "      <td>45650</td>\n",
       "      <td>mixed</td>\n",
       "      <td>False</td>\n",
       "      <td>175629681</td>\n",
       "      <td>0</td>\n",
       "      <td>14031004</td>\n",
       "    </tr>\n",
       "    <tr>\n",
       "      <th>1</th>\n",
       "      <td>111172</td>\n",
       "      <td>9</td>\n",
       "      <td>Unnamed User</td>\n",
       "      <td>سلام خسته نباشید از این برنامه میشه غیر حضوری حساب باز کنیم یا نه ؟</td>\n",
       "      <td>0.0</td>\n",
       "      <td>0.0</td>\n",
       "      <td>0</td>\n",
       "      <td>5</td>\n",
       "      <td>45649</td>\n",
       "      <td>no sentiment expressed</td>\n",
       "      <td>False</td>\n",
       "      <td>175659112</td>\n",
       "      <td>0</td>\n",
       "      <td>14031003</td>\n",
       "    </tr>\n",
       "    <tr>\n",
       "      <th>2</th>\n",
       "      <td>110746</td>\n",
       "      <td>8</td>\n",
       "      <td>Unnamed User</td>\n",
       "      <td>لطفا تعداد اقساط رو از ۱۲ ماه شروع کنید نه ۲۴ ماه</td>\n",
       "      <td>0.0</td>\n",
       "      <td>0.0</td>\n",
       "      <td>0</td>\n",
       "      <td>5</td>\n",
       "      <td>45651</td>\n",
       "      <td>no sentiment expressed</td>\n",
       "      <td>False</td>\n",
       "      <td>175712781</td>\n",
       "      <td>0</td>\n",
       "      <td>14031005</td>\n",
       "    </tr>\n",
       "    <tr>\n",
       "      <th>3</th>\n",
       "      <td>110706</td>\n",
       "      <td>8</td>\n",
       "      <td>shayan</td>\n",
       "      <td>خود بانک و وام هاش خوبه ولی نام افزارش خیلی هنگی و قطعی داره</td>\n",
       "      <td>3.0</td>\n",
       "      <td>3.0</td>\n",
       "      <td>3</td>\n",
       "      <td>2</td>\n",
       "      <td>45651</td>\n",
       "      <td>mixed</td>\n",
       "      <td>False</td>\n",
       "      <td>175740844</td>\n",
       "      <td>0</td>\n",
       "      <td>14031005</td>\n",
       "    </tr>\n",
       "    <tr>\n",
       "      <th>4</th>\n",
       "      <td>110702</td>\n",
       "      <td>8</td>\n",
       "      <td>hamed</td>\n",
       "      <td>سلام چرا وارد همراه بانک نمیتونم بشم</td>\n",
       "      <td>2.0</td>\n",
       "      <td>2.0</td>\n",
       "      <td>2</td>\n",
       "      <td>3</td>\n",
       "      <td>45651</td>\n",
       "      <td>no sentiment expressed</td>\n",
       "      <td>False</td>\n",
       "      <td>175741764</td>\n",
       "      <td>0</td>\n",
       "      <td>14031005</td>\n",
       "    </tr>\n",
       "  </tbody>\n",
       "</table>\n",
       "</div>"
      ],
      "text/plain": [
       "   comment_id  app_id     user_name  \\\n",
       "0      111177       9          هادی   \n",
       "1      111172       9  Unnamed User   \n",
       "2      110746       8  Unnamed User   \n",
       "3      110706       8        shayan   \n",
       "4      110702       8         hamed   \n",
       "\n",
       "                                                          comment_text  \\\n",
       "0                            سلام،خوبه ولی برنامه همراه شهر باز نمیشه.   \n",
       "1  سلام خسته نباشید از این برنامه میشه غیر حضوری حساب باز کنیم یا نه ؟   \n",
       "2                    لطفا تعداد اقساط رو از ۱۲ ماه شروع کنید نه ۲۴ ماه   \n",
       "3         خود بانک و وام هاش خوبه ولی نام افزارش خیلی هنگی و قطعی داره   \n",
       "4                                 سلام چرا وارد همراه بانک نمیتونم بشم   \n",
       "\n",
       "   Annotator1  Annotator2  Annotator3  comment_rating  comment_date  \\\n",
       "0         3.0         3.0           3               5         45650   \n",
       "1         0.0         0.0           0               5         45649   \n",
       "2         0.0         0.0           0               5         45651   \n",
       "3         3.0         3.0           3               2         45651   \n",
       "4         2.0         2.0           2               3         45651   \n",
       "\n",
       "         sentiment_result  second_model_processed  comment_idd  \\\n",
       "0                   mixed                   False    175629681   \n",
       "1  no sentiment expressed                   False    175659112   \n",
       "2  no sentiment expressed                   False    175712781   \n",
       "3                   mixed                   False    175740844   \n",
       "4  no sentiment expressed                   False    175741764   \n",
       "\n",
       "   sentiment_score  comment_date_jalali  \n",
       "0                0             14031004  \n",
       "1                0             14031003  \n",
       "2                0             14031005  \n",
       "3                0             14031005  \n",
       "4                0             14031005  "
      ]
     },
     "execution_count": 5,
     "metadata": {},
     "output_type": "execute_result"
    }
   ],
   "source": [
    "df.head()"
   ]
  },
  {
   "cell_type": "markdown",
   "id": "b0dd156e",
   "metadata": {},
   "source": [
    "## Preprocessing"
   ]
  },
  {
   "cell_type": "code",
   "execution_count": 6,
   "id": "d8c3c027",
   "metadata": {},
   "outputs": [],
   "source": [
    "def _multiple_replace(mapping, text):\n",
    "    pattern = \"|\".join(map(re.escape, mapping.keys()))\n",
    "    return re.sub(pattern, lambda m: mapping[m.group()], str(text))\n",
    "\n",
    "def convert_fa_numbers(input_str):\n",
    "    mapping = {\n",
    "        '۰': '0',\n",
    "        '۱': '1',\n",
    "        '۲': '2',\n",
    "        '۳': '3',\n",
    "        '۴': '4',\n",
    "        '۵': '5',\n",
    "        '۶': '6',\n",
    "        '۷': '7',\n",
    "        '۸': '8',\n",
    "        '۹': '9',\n",
    "        '.': '.',\n",
    "    }\n",
    "    return _multiple_replace(mapping, input_str)\n",
    "\n",
    "def convert_en_numbers(input_str):\n",
    "    mapping = {\n",
    "         '0': '۰',\n",
    "         '1' : '۱',\n",
    "         '2' :'۲',\n",
    "        '3'  :'۳',\n",
    "        '4'  :'۴',\n",
    "        '5' :'۵',\n",
    "        '6' :'۶',\n",
    "        '7' :'۷',\n",
    "        '8' :'۸',\n",
    "        '9' :'۹',\n",
    "        '.' :'.'\n",
    "    }\n",
    "    return _multiple_replace(mapping, input_str)\n",
    "\n",
    "def convert_ar_characters(input_str):\n",
    "    \"\"\"\n",
    "    Converts Arabic chars to related Persian unicode char\n",
    "    \"\"\"\n",
    "    mapping = {\n",
    "        'ك': 'ک',\n",
    "        'ى': 'ی',\n",
    "        'ي': 'ی',\n",
    "        'ئ':'ی',\n",
    "        'إ':'ا',\n",
    "        'أ':'ا',\n",
    "        'ة':'ه',\n",
    "        'ؤ':'و'\n",
    "    }\n",
    "    return _multiple_replace(mapping, input_str)\n",
    "\n"
   ]
  },
  {
   "cell_type": "markdown",
   "id": "37439b1a",
   "metadata": {},
   "source": [
    "### Convert Emojis"
   ]
  },
  {
   "cell_type": "code",
   "execution_count": 21,
   "id": "d754ae8d",
   "metadata": {},
   "outputs": [],
   "source": [
    "import emoji\n",
    "import re\n",
    "\n",
    "def convert_emojis_to_persian(text):\n",
    "    # First, convert emojis to English descriptive labels.\n",
    "    # This will convert \"😊\" into something like \":smiling_face_with_smiling_eyes:\".\n",
    "    demojized_text = emoji.demojize(text)\n",
    "    \n",
    "    # Define a dictionary mapping some common English emoji labels to Persian words.\n",
    "    persian_emoji_map = {\n",
    "        \":smiling_face_with_smiling_eyes:\": \"خندان\",\n",
    "        \":grinning_face:\": \"با لبخند\",\n",
    "        \":face_with_tears_of_joy:\": \"با اشک شوق\",\n",
    "        \":red_heart:\": \"عشق\",\n",
    "        \":thumbs_up:\": \"پسندیده\",\n",
    "        # Add additional mappings as needed.\n",
    "    }\n",
    "    \n",
    "    # Optionally, remove colons to clean up the text (if desired)\n",
    "    for eng_label, pers_label in persian_emoji_map.items():\n",
    "        pers_label = '['+pers_label+']'\n",
    "        # Use regex to ensure exact matching of the label\n",
    "        demojized_text = re.sub(re.escape(eng_label), pers_label, demojized_text)\n",
    "    \n",
    "    return demojized_text\n"
   ]
  },
  {
   "cell_type": "markdown",
   "id": "b51382a3",
   "metadata": {},
   "source": [
    "## preprocess functions"
   ]
  },
  {
   "cell_type": "code",
   "execution_count": 83,
   "id": "f7d1bc43",
   "metadata": {},
   "outputs": [],
   "source": [
    "\n",
    "def merge_mi_prefix(text):\n",
    "\n",
    "    return re.sub(r'\\b(ن?می)\\s+(\\S+)', r'\\1\\2', text)\n",
    "\n",
    "def remove_diacritics(text):\n",
    "    # Define regex for Persian diacritics (Unicode range: \\u064B-\\u0652)\n",
    "    diacritics_pattern = re.compile(r'[\\u064B-\\u0652]')\n",
    "    return re.sub(diacritics_pattern, '', text)\n",
    "\n",
    "\n",
    "def convert_number_to_text(text):\n",
    "    \n",
    "    return re.sub(r'(\\d)\\d*', r'\\1', text)\n",
    "\n",
    "\n",
    "\n",
    "def map_num_to_text(text):\n",
    "\n",
    "    # Check if the text is exactly '1', '2', or '3' (nothing else)\n",
    "    mapping = {'1': 'خیلی بد', '2': 'بد', '3': 'متوسط' , '4': 'خوب' , '5': 'عالی'}\n",
    "    \n",
    "    if text in mapping:\n",
    "        return mapping[text]  # Replace number with label\n",
    "    \n",
    "    return text  # Return original text if it’s not a single number\n"
   ]
  },
  {
   "cell_type": "code",
   "execution_count": 72,
   "id": "b801798c",
   "metadata": {},
   "outputs": [],
   "source": [
    "text = 'سلام. این شماره ۵ مال کدوم شماره از ۱۲۳۴۵ هست'"
   ]
  },
  {
   "cell_type": "code",
   "execution_count": 73,
   "id": "5f87ff56",
   "metadata": {},
   "outputs": [
    {
     "data": {
      "text/plain": [
       "'سلام. این شماره ۵ مال کدوم شماره از ۱ هست'"
      ]
     },
     "execution_count": 73,
     "metadata": {},
     "output_type": "execute_result"
    }
   ],
   "source": [
    "convert_number_to_text(text)"
   ]
  },
  {
   "cell_type": "code",
   "execution_count": 84,
   "id": "c4fc2373",
   "metadata": {},
   "outputs": [
    {
     "name": "stdout",
     "output_type": "stream",
     "text": [
      "خیلی بد\n"
     ]
    }
   ],
   "source": [
    "# Example inputs:\n",
    "print(map_num_to_text(\"1\"))        # Output: خیلی بد\n",
    "# print(map_number_to_text(\" 2 \"))      # Output: بد\n",
    "# print(map_number_to_text(\"3\"))        # Output: متوسط\n",
    "# print(map_number_to_text(\"سلام 1\"))   # Output: سلام 1\n",
    "# print(map_number_to_text(\"۱۲۳\"))      # Output: ۱۲۳\n",
    "# print(map_number_to_text(\" شماره 3 \")) # Output:  شماره 3 "
   ]
  },
  {
   "cell_type": "code",
   "execution_count": 81,
   "id": "d3756eb1",
   "metadata": {},
   "outputs": [
    {
     "data": {
      "text/plain": [
       "1009    در هنگام ثبت نام کد دعوت yg6iamnz بزنید تا ۷۰ هزارتومان پاداش براتون واریز شه با تشکر ✅️✅️yg6iamnz✅️✅️\n",
       "Name: comment_text, dtype: object"
      ]
     },
     "execution_count": 81,
     "metadata": {},
     "output_type": "execute_result"
    }
   ],
   "source": [
    "# text = df[df[\"comment_id\"]== 93575]['comment_text']\n",
    "text = df[df[\"comment_id\"]== 94729]['comment_text']\n",
    "text"
   ]
  },
  {
   "cell_type": "code",
   "execution_count": 85,
   "id": "272076a4",
   "metadata": {},
   "outputs": [
    {
     "data": {
      "text/plain": [
       "1009    در هنگام ثبت نام کد دعوت yg6iamnz بزنید تا ۷۰ هزارتومان پاداش براتون واریز شه با تشکر ✅️✅️yg6iamnz✅️✅️\n",
       "Name: comment_text, dtype: object"
      ]
     },
     "execution_count": 85,
     "metadata": {},
     "output_type": "execute_result"
    }
   ],
   "source": [
    "text.apply(lambda x : map_num_to_text(x))"
   ]
  },
  {
   "cell_type": "markdown",
   "id": "8ebbeab9",
   "metadata": {},
   "source": [
    "## Main Function"
   ]
  },
  {
   "cell_type": "code",
   "execution_count": 86,
   "id": "17292158",
   "metadata": {},
   "outputs": [],
   "source": [
    "def preprocess(text,\n",
    "               convert_farsi_numbers = False,\n",
    "               convert_english_numbers = False,\n",
    "               convert_arabic_characters = False,\n",
    "               remove_diacritic = False,\n",
    "               convert_emojis = False,\n",
    "               remove_half_space = False,\n",
    "               remove_removelist = False,\n",
    "               remove_extra_characters = False,\n",
    "               remove_numbers = False,\n",
    "               remove_punctuation = False,\n",
    "               replace_multiple_space = False,\n",
    "               handle_prefix = False,\n",
    "               map_number_to_text = False\n",
    "               \n",
    "               ):\n",
    "    \n",
    "    text = text.strip()\n",
    "\n",
    "    if convert_farsi_numbers:\n",
    "        text = convert_fa_numbers(text)\n",
    "\n",
    "    if convert_arabic_characters:\n",
    "# convert arabic characters to persian\n",
    "        text = convert_ar_characters(text)\n",
    "\n",
    "    if remove_diacritic:\n",
    "        text = remove_diacritics(text)\n",
    "\n",
    "    if convert_emojis:\n",
    "# convert Emojis\n",
    "        text = convert_emojis_to_persian(text)\n",
    "    \n",
    "    if remove_removelist:\n",
    "        removelist = \"<>\"\n",
    "        # text = re.sub(r'[^\\w'+removelist+']', ' ', text)\n",
    "        # text = re.sub(r'[^\\w]', ' ', text)\n",
    "        # text = re.sub(r'((#)[\\w]*)','#',text)\n",
    "    \n",
    "    if remove_half_space:\n",
    "# remove half space\n",
    "        text = text.replace('\\u200c', '')\n",
    "    \n",
    "    if remove_extra_characters:\n",
    "        text = re.sub(r'(\\w)\\1{2,}', r'\\1\\1',text)\n",
    "\n",
    "    if map_number_to_text:\n",
    "        text = map_num_to_text(text)\n",
    "\n",
    "# remove numbers\n",
    "    if remove_numbers:\n",
    "        text = re.sub(r' [\\d+]', ' ',text)\n",
    "\n",
    "# convert english numbers to persian\n",
    "    if convert_english_numbers:\n",
    "        text = convert_en_numbers(text)\n",
    "    \n",
    "# remove punctuations\n",
    "    if remove_punctuation:\n",
    "        text= re.sub(r'[^\\w\\[\\]]', ' ', text)\n",
    "\n",
    "# replace multiple spaces with one space\n",
    "    if replace_multiple_space:\n",
    "        text = re.sub(r'[\\s]{2,}', ' ', text)\n",
    "\n",
    "# prefix\n",
    "    if handle_prefix:\n",
    "        text = merge_mi_prefix(text)\n",
    "   \n",
    "    \n",
    "    return(text)"
   ]
  },
  {
   "cell_type": "markdown",
   "id": "c2c37684",
   "metadata": {},
   "source": [
    "## Test the function"
   ]
  },
  {
   "cell_type": "code",
   "execution_count": 46,
   "id": "6bb2b602",
   "metadata": {},
   "outputs": [],
   "source": [
    "text = ' سلامممم.!!! من نمی خواهم ازین جا ببببرم.... نمره ۵ می دم!؟.'"
   ]
  },
  {
   "cell_type": "code",
   "execution_count": 47,
   "id": "65a349f8",
   "metadata": {},
   "outputs": [
    {
     "data": {
      "text/plain": [
       "'سلامم من نمیخواهم ازین جا ببرم نمره 5 میدم '"
      ]
     },
     "execution_count": 47,
     "metadata": {},
     "output_type": "execute_result"
    }
   ],
   "source": [
    "preprocess(text)"
   ]
  },
  {
   "cell_type": "code",
   "execution_count": 48,
   "id": "f9fd82d9",
   "metadata": {},
   "outputs": [
    {
     "name": "stdout",
     "output_type": "stream",
     "text": [
      "مسلم، مدرسه، امس\n"
     ]
    }
   ],
   "source": [
    "# Example Usage\n",
    "text_with_diacritics = \"مُسلم، مَدرسه، اَمسْ\"\n",
    "clean_text = remove_diacritics(text_with_diacritics)\n",
    "print(clean_text)  "
   ]
  },
  {
   "cell_type": "code",
   "execution_count": 49,
   "id": "548e776d",
   "metadata": {},
   "outputs": [
    {
     "data": {
      "text/plain": [
       "21    برنامه خوب و بروز👍👍👍👍\n",
       "Name: comment_text, dtype: object"
      ]
     },
     "execution_count": 49,
     "metadata": {},
     "output_type": "execute_result"
    }
   ],
   "source": [
    "text = df[df[\"comment_id\"]== 110441]['comment_text']\n",
    "# text = '👍👍👍👍'\n",
    "text"
   ]
  },
  {
   "cell_type": "code",
   "execution_count": 50,
   "id": "6a3c1afd",
   "metadata": {},
   "outputs": [],
   "source": [
    "# convert_emojis_to_persian(text)"
   ]
  },
  {
   "cell_type": "code",
   "execution_count": 51,
   "id": "baf0e303",
   "metadata": {},
   "outputs": [
    {
     "data": {
      "text/plain": [
       "'21 برنامه خوب و بروز[پسندیده][پسندیده][پسندیده][پسندیده] Name comment_text dtype object'"
      ]
     },
     "execution_count": 51,
     "metadata": {},
     "output_type": "execute_result"
    }
   ],
   "source": [
    "preprocess(text)"
   ]
  }
 ],
 "metadata": {
  "kernelspec": {
   "display_name": ".venv",
   "language": "python",
   "name": "python3"
  },
  "language_info": {
   "codemirror_mode": {
    "name": "ipython",
    "version": 3
   },
   "file_extension": ".py",
   "mimetype": "text/x-python",
   "name": "python",
   "nbconvert_exporter": "python",
   "pygments_lexer": "ipython3",
   "version": "3.12.4"
  }
 },
 "nbformat": 4,
 "nbformat_minor": 5
}
